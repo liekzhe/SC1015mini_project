{
 "cells": [
  {
   "cell_type": "markdown",
   "metadata": {},
   "source": [
    "# **Part 5: Insights on Categorical factors**\n",
    "---\n",
    "\n",
    "In this section, we will be analysing categorical factors that can influence the success of a movie and determine if it is an infuential factor <br>\n",
    "\n",
    "**Machine learning models used are:**<br>\n"
   ]
  },
  {
   "cell_type": "code",
   "execution_count": 2,
   "metadata": {},
   "outputs": [],
   "source": [
    "import numpy as np\n",
    "import pandas as pd\n",
    "import seaborn as sb\n",
    "import matplotlib.pyplot as plt \n",
    "from IPython.display import display\n",
    "sb.set() "
   ]
  },
  {
   "cell_type": "code",
   "execution_count": 3,
   "metadata": {},
   "outputs": [],
   "source": [
    "cast_filtered = pd.read_pickle('cast_filtered.pkl')\n",
    "prod_filtered = pd.read_pickle('prod_filtered.pkl')\n",
    "dir_filtered = pd.read_pickle('dir_filtered.pkl')\n",
    "genres_filtered = pd.read_pickle('genres_filtered.pkl')\n"
   ]
  },
  {
   "cell_type": "markdown",
   "metadata": {},
   "source": [
    "#### *cast*"
   ]
  },
  {
   "cell_type": "code",
   "execution_count": 4,
   "metadata": {},
   "outputs": [
    {
     "data": {
      "text/html": [
       "<div>\n",
       "<style scoped>\n",
       "    .dataframe tbody tr th:only-of-type {\n",
       "        vertical-align: middle;\n",
       "    }\n",
       "\n",
       "    .dataframe tbody tr th {\n",
       "        vertical-align: top;\n",
       "    }\n",
       "\n",
       "    .dataframe thead th {\n",
       "        text-align: right;\n",
       "    }\n",
       "</style>\n",
       "<table border=\"1\" class=\"dataframe\">\n",
       "  <thead>\n",
       "    <tr style=\"text-align: right;\">\n",
       "      <th></th>\n",
       "      <th>popularity</th>\n",
       "      <th>profit</th>\n",
       "      <th>cast</th>\n",
       "    </tr>\n",
       "  </thead>\n",
       "  <tbody>\n",
       "    <tr>\n",
       "      <th>0</th>\n",
       "      <td>32.985763</td>\n",
       "      <td>1.363529e+09</td>\n",
       "      <td>Chris Pratt</td>\n",
       "    </tr>\n",
       "    <tr>\n",
       "      <th>1</th>\n",
       "      <td>28.419936</td>\n",
       "      <td>2.284364e+08</td>\n",
       "      <td>Tom Hardy</td>\n",
       "    </tr>\n",
       "    <tr>\n",
       "      <th>1</th>\n",
       "      <td>28.419936</td>\n",
       "      <td>2.284364e+08</td>\n",
       "      <td>Charlize Theron</td>\n",
       "    </tr>\n",
       "    <tr>\n",
       "      <th>2</th>\n",
       "      <td>13.112507</td>\n",
       "      <td>1.852382e+08</td>\n",
       "      <td>Kate Winslet</td>\n",
       "    </tr>\n",
       "    <tr>\n",
       "      <th>2</th>\n",
       "      <td>13.112507</td>\n",
       "      <td>1.852382e+08</td>\n",
       "      <td>Miles Teller</td>\n",
       "    </tr>\n",
       "    <tr>\n",
       "      <th>...</th>\n",
       "      <td>...</td>\n",
       "      <td>...</td>\n",
       "      <td>...</td>\n",
       "    </tr>\n",
       "    <tr>\n",
       "      <th>1279</th>\n",
       "      <td>2.508235</td>\n",
       "      <td>7.639876e+07</td>\n",
       "      <td>Sean Connery</td>\n",
       "    </tr>\n",
       "    <tr>\n",
       "      <th>1280</th>\n",
       "      <td>0.960984</td>\n",
       "      <td>-1.400000e+07</td>\n",
       "      <td>Kurt Russell</td>\n",
       "    </tr>\n",
       "    <tr>\n",
       "      <th>1282</th>\n",
       "      <td>1.549139</td>\n",
       "      <td>1.547778e+08</td>\n",
       "      <td>Roger Moore</td>\n",
       "    </tr>\n",
       "    <tr>\n",
       "      <th>1283</th>\n",
       "      <td>1.910465</td>\n",
       "      <td>1.301957e+08</td>\n",
       "      <td>Sean Connery</td>\n",
       "    </tr>\n",
       "    <tr>\n",
       "      <th>1285</th>\n",
       "      <td>1.198849</td>\n",
       "      <td>6.970000e+07</td>\n",
       "      <td>Donald Pleasence</td>\n",
       "    </tr>\n",
       "  </tbody>\n",
       "</table>\n",
       "<p>2556 rows × 3 columns</p>\n",
       "</div>"
      ],
      "text/plain": [
       "      popularity        profit              cast\n",
       "0      32.985763  1.363529e+09       Chris Pratt\n",
       "1      28.419936  2.284364e+08         Tom Hardy\n",
       "1      28.419936  2.284364e+08   Charlize Theron\n",
       "2      13.112507  1.852382e+08      Kate Winslet\n",
       "2      13.112507  1.852382e+08      Miles Teller\n",
       "...          ...           ...               ...\n",
       "1279    2.508235  7.639876e+07      Sean Connery\n",
       "1280    0.960984 -1.400000e+07      Kurt Russell\n",
       "1282    1.549139  1.547778e+08       Roger Moore\n",
       "1283    1.910465  1.301957e+08      Sean Connery\n",
       "1285    1.198849  6.970000e+07  Donald Pleasence\n",
       "\n",
       "[2556 rows x 3 columns]"
      ]
     },
     "execution_count": 4,
     "metadata": {},
     "output_type": "execute_result"
    }
   ],
   "source": [
    "cast_filtered"
   ]
  },
  {
   "cell_type": "markdown",
   "metadata": {},
   "source": [
    "#### *production_companies*"
   ]
  },
  {
   "cell_type": "code",
   "execution_count": 5,
   "metadata": {},
   "outputs": [
    {
     "data": {
      "text/html": [
       "<div>\n",
       "<style scoped>\n",
       "    .dataframe tbody tr th:only-of-type {\n",
       "        vertical-align: middle;\n",
       "    }\n",
       "\n",
       "    .dataframe tbody tr th {\n",
       "        vertical-align: top;\n",
       "    }\n",
       "\n",
       "    .dataframe thead th {\n",
       "        text-align: right;\n",
       "    }\n",
       "</style>\n",
       "<table border=\"1\" class=\"dataframe\">\n",
       "  <thead>\n",
       "    <tr style=\"text-align: right;\">\n",
       "      <th></th>\n",
       "      <th>popularity</th>\n",
       "      <th>profit</th>\n",
       "      <th>production_companies</th>\n",
       "    </tr>\n",
       "  </thead>\n",
       "  <tbody>\n",
       "    <tr>\n",
       "      <th>0</th>\n",
       "      <td>32.985763</td>\n",
       "      <td>1.363529e+09</td>\n",
       "      <td>Amblin Entertainment</td>\n",
       "    </tr>\n",
       "    <tr>\n",
       "      <th>0</th>\n",
       "      <td>32.985763</td>\n",
       "      <td>1.363529e+09</td>\n",
       "      <td>Legendary Pictures</td>\n",
       "    </tr>\n",
       "    <tr>\n",
       "      <th>0</th>\n",
       "      <td>32.985763</td>\n",
       "      <td>1.363529e+09</td>\n",
       "      <td>Dentsu</td>\n",
       "    </tr>\n",
       "    <tr>\n",
       "      <th>1</th>\n",
       "      <td>28.419936</td>\n",
       "      <td>2.284364e+08</td>\n",
       "      <td>Village Roadshow Pictures</td>\n",
       "    </tr>\n",
       "    <tr>\n",
       "      <th>2</th>\n",
       "      <td>13.112507</td>\n",
       "      <td>1.852382e+08</td>\n",
       "      <td>Summit Entertainment</td>\n",
       "    </tr>\n",
       "    <tr>\n",
       "      <th>...</th>\n",
       "      <td>...</td>\n",
       "      <td>...</td>\n",
       "      <td>...</td>\n",
       "    </tr>\n",
       "    <tr>\n",
       "      <th>1283</th>\n",
       "      <td>1.910465</td>\n",
       "      <td>1.301957e+08</td>\n",
       "      <td>Metro-Goldwyn-Mayer (MGM)</td>\n",
       "    </tr>\n",
       "    <tr>\n",
       "      <th>1284</th>\n",
       "      <td>1.778746</td>\n",
       "      <td>7.497449e+07</td>\n",
       "      <td>Eon Productions</td>\n",
       "    </tr>\n",
       "    <tr>\n",
       "      <th>1284</th>\n",
       "      <td>1.778746</td>\n",
       "      <td>7.497449e+07</td>\n",
       "      <td>Metro-Goldwyn-Mayer (MGM)</td>\n",
       "    </tr>\n",
       "    <tr>\n",
       "      <th>1284</th>\n",
       "      <td>1.778746</td>\n",
       "      <td>7.497449e+07</td>\n",
       "      <td>Danjaq</td>\n",
       "    </tr>\n",
       "    <tr>\n",
       "      <th>1286</th>\n",
       "      <td>1.157930</td>\n",
       "      <td>1.383000e+08</td>\n",
       "      <td>Universal Pictures</td>\n",
       "    </tr>\n",
       "  </tbody>\n",
       "</table>\n",
       "<p>2088 rows × 3 columns</p>\n",
       "</div>"
      ],
      "text/plain": [
       "      popularity        profit       production_companies\n",
       "0      32.985763  1.363529e+09       Amblin Entertainment\n",
       "0      32.985763  1.363529e+09         Legendary Pictures\n",
       "0      32.985763  1.363529e+09                     Dentsu\n",
       "1      28.419936  2.284364e+08  Village Roadshow Pictures\n",
       "2      13.112507  1.852382e+08       Summit Entertainment\n",
       "...          ...           ...                        ...\n",
       "1283    1.910465  1.301957e+08  Metro-Goldwyn-Mayer (MGM)\n",
       "1284    1.778746  7.497449e+07            Eon Productions\n",
       "1284    1.778746  7.497449e+07  Metro-Goldwyn-Mayer (MGM)\n",
       "1284    1.778746  7.497449e+07                     Danjaq\n",
       "1286    1.157930  1.383000e+08         Universal Pictures\n",
       "\n",
       "[2088 rows x 3 columns]"
      ]
     },
     "execution_count": 5,
     "metadata": {},
     "output_type": "execute_result"
    }
   ],
   "source": [
    "prod_filtered"
   ]
  },
  {
   "cell_type": "markdown",
   "metadata": {},
   "source": [
    "#### *director*"
   ]
  },
  {
   "cell_type": "code",
   "execution_count": 6,
   "metadata": {},
   "outputs": [
    {
     "data": {
      "text/html": [
       "<div>\n",
       "<style scoped>\n",
       "    .dataframe tbody tr th:only-of-type {\n",
       "        vertical-align: middle;\n",
       "    }\n",
       "\n",
       "    .dataframe tbody tr th {\n",
       "        vertical-align: top;\n",
       "    }\n",
       "\n",
       "    .dataframe thead th {\n",
       "        text-align: right;\n",
       "    }\n",
       "</style>\n",
       "<table border=\"1\" class=\"dataframe\">\n",
       "  <thead>\n",
       "    <tr style=\"text-align: right;\">\n",
       "      <th></th>\n",
       "      <th>popularity</th>\n",
       "      <th>profit</th>\n",
       "      <th>director</th>\n",
       "    </tr>\n",
       "  </thead>\n",
       "  <tbody>\n",
       "    <tr>\n",
       "      <th>1</th>\n",
       "      <td>28.419936</td>\n",
       "      <td>2.284364e+08</td>\n",
       "      <td>George Miller</td>\n",
       "    </tr>\n",
       "    <tr>\n",
       "      <th>2</th>\n",
       "      <td>13.112507</td>\n",
       "      <td>1.852382e+08</td>\n",
       "      <td>Robert Schwentke</td>\n",
       "    </tr>\n",
       "    <tr>\n",
       "      <th>3</th>\n",
       "      <td>11.173104</td>\n",
       "      <td>1.868178e+09</td>\n",
       "      <td>J.J. Abrams</td>\n",
       "    </tr>\n",
       "    <tr>\n",
       "      <th>4</th>\n",
       "      <td>9.335014</td>\n",
       "      <td>1.316249e+09</td>\n",
       "      <td>James Wan</td>\n",
       "    </tr>\n",
       "    <tr>\n",
       "      <th>5</th>\n",
       "      <td>9.110700</td>\n",
       "      <td>3.979505e+08</td>\n",
       "      <td>Alejandro GonzÃ¡lez IÃ±Ã¡rritu</td>\n",
       "    </tr>\n",
       "    <tr>\n",
       "      <th>...</th>\n",
       "      <td>...</td>\n",
       "      <td>...</td>\n",
       "      <td>...</td>\n",
       "    </tr>\n",
       "    <tr>\n",
       "      <th>1280</th>\n",
       "      <td>0.960984</td>\n",
       "      <td>-1.400000e+07</td>\n",
       "      <td>John Carpenter</td>\n",
       "    </tr>\n",
       "    <tr>\n",
       "      <th>1281</th>\n",
       "      <td>2.010733</td>\n",
       "      <td>4.333061e+08</td>\n",
       "      <td>William Friedkin</td>\n",
       "    </tr>\n",
       "    <tr>\n",
       "      <th>1282</th>\n",
       "      <td>1.549139</td>\n",
       "      <td>1.547778e+08</td>\n",
       "      <td>Guy Hamilton</td>\n",
       "    </tr>\n",
       "    <tr>\n",
       "      <th>1283</th>\n",
       "      <td>1.910465</td>\n",
       "      <td>1.301957e+08</td>\n",
       "      <td>Terence Young</td>\n",
       "    </tr>\n",
       "    <tr>\n",
       "      <th>1285</th>\n",
       "      <td>1.198849</td>\n",
       "      <td>6.970000e+07</td>\n",
       "      <td>John Carpenter</td>\n",
       "    </tr>\n",
       "  </tbody>\n",
       "</table>\n",
       "<p>875 rows × 3 columns</p>\n",
       "</div>"
      ],
      "text/plain": [
       "      popularity        profit                        director\n",
       "1      28.419936  2.284364e+08                   George Miller\n",
       "2      13.112507  1.852382e+08                Robert Schwentke\n",
       "3      11.173104  1.868178e+09                     J.J. Abrams\n",
       "4       9.335014  1.316249e+09                       James Wan\n",
       "5       9.110700  3.979505e+08  Alejandro GonzÃ¡lez IÃ±Ã¡rritu\n",
       "...          ...           ...                             ...\n",
       "1280    0.960984 -1.400000e+07                  John Carpenter\n",
       "1281    2.010733  4.333061e+08                William Friedkin\n",
       "1282    1.549139  1.547778e+08                    Guy Hamilton\n",
       "1283    1.910465  1.301957e+08                   Terence Young\n",
       "1285    1.198849  6.970000e+07                  John Carpenter\n",
       "\n",
       "[875 rows x 3 columns]"
      ]
     },
     "execution_count": 6,
     "metadata": {},
     "output_type": "execute_result"
    }
   ],
   "source": [
    "dir_filtered"
   ]
  },
  {
   "cell_type": "markdown",
   "metadata": {},
   "source": [
    "#### *genres*"
   ]
  },
  {
   "cell_type": "code",
   "execution_count": 7,
   "metadata": {},
   "outputs": [
    {
     "data": {
      "text/html": [
       "<div>\n",
       "<style scoped>\n",
       "    .dataframe tbody tr th:only-of-type {\n",
       "        vertical-align: middle;\n",
       "    }\n",
       "\n",
       "    .dataframe tbody tr th {\n",
       "        vertical-align: top;\n",
       "    }\n",
       "\n",
       "    .dataframe thead th {\n",
       "        text-align: right;\n",
       "    }\n",
       "</style>\n",
       "<table border=\"1\" class=\"dataframe\">\n",
       "  <thead>\n",
       "    <tr style=\"text-align: right;\">\n",
       "      <th></th>\n",
       "      <th>popularity</th>\n",
       "      <th>profit</th>\n",
       "      <th>genres</th>\n",
       "    </tr>\n",
       "  </thead>\n",
       "  <tbody>\n",
       "    <tr>\n",
       "      <th>0</th>\n",
       "      <td>32.985763</td>\n",
       "      <td>1.363529e+09</td>\n",
       "      <td>Action</td>\n",
       "    </tr>\n",
       "    <tr>\n",
       "      <th>0</th>\n",
       "      <td>32.985763</td>\n",
       "      <td>1.363529e+09</td>\n",
       "      <td>Adventure</td>\n",
       "    </tr>\n",
       "    <tr>\n",
       "      <th>0</th>\n",
       "      <td>32.985763</td>\n",
       "      <td>1.363529e+09</td>\n",
       "      <td>Science Fiction</td>\n",
       "    </tr>\n",
       "    <tr>\n",
       "      <th>0</th>\n",
       "      <td>32.985763</td>\n",
       "      <td>1.363529e+09</td>\n",
       "      <td>Thriller</td>\n",
       "    </tr>\n",
       "    <tr>\n",
       "      <th>1</th>\n",
       "      <td>28.419936</td>\n",
       "      <td>2.284364e+08</td>\n",
       "      <td>Action</td>\n",
       "    </tr>\n",
       "    <tr>\n",
       "      <th>...</th>\n",
       "      <td>...</td>\n",
       "      <td>...</td>\n",
       "      <td>...</td>\n",
       "    </tr>\n",
       "    <tr>\n",
       "      <th>1284</th>\n",
       "      <td>1.778746</td>\n",
       "      <td>7.497449e+07</td>\n",
       "      <td>Action</td>\n",
       "    </tr>\n",
       "    <tr>\n",
       "      <th>1284</th>\n",
       "      <td>1.778746</td>\n",
       "      <td>7.497449e+07</td>\n",
       "      <td>Thriller</td>\n",
       "    </tr>\n",
       "    <tr>\n",
       "      <th>1285</th>\n",
       "      <td>1.198849</td>\n",
       "      <td>6.970000e+07</td>\n",
       "      <td>Horror</td>\n",
       "    </tr>\n",
       "    <tr>\n",
       "      <th>1285</th>\n",
       "      <td>1.198849</td>\n",
       "      <td>6.970000e+07</td>\n",
       "      <td>Thriller</td>\n",
       "    </tr>\n",
       "    <tr>\n",
       "      <th>1286</th>\n",
       "      <td>1.157930</td>\n",
       "      <td>1.383000e+08</td>\n",
       "      <td>Comedy</td>\n",
       "    </tr>\n",
       "  </tbody>\n",
       "</table>\n",
       "<p>3453 rows × 3 columns</p>\n",
       "</div>"
      ],
      "text/plain": [
       "      popularity        profit           genres\n",
       "0      32.985763  1.363529e+09           Action\n",
       "0      32.985763  1.363529e+09        Adventure\n",
       "0      32.985763  1.363529e+09  Science Fiction\n",
       "0      32.985763  1.363529e+09         Thriller\n",
       "1      28.419936  2.284364e+08           Action\n",
       "...          ...           ...              ...\n",
       "1284    1.778746  7.497449e+07           Action\n",
       "1284    1.778746  7.497449e+07         Thriller\n",
       "1285    1.198849  6.970000e+07           Horror\n",
       "1285    1.198849  6.970000e+07         Thriller\n",
       "1286    1.157930  1.383000e+08           Comedy\n",
       "\n",
       "[3453 rows x 3 columns]"
      ]
     },
     "execution_count": 7,
     "metadata": {},
     "output_type": "execute_result"
    }
   ],
   "source": [
    "genres_filtered"
   ]
  },
  {
   "cell_type": "markdown",
   "metadata": {},
   "source": [
    "### Mean of *popularity* and *profit* for each variable"
   ]
  },
  {
   "cell_type": "markdown",
   "metadata": {},
   "source": [
    "#### *cast*"
   ]
  },
  {
   "cell_type": "code",
   "execution_count": 8,
   "metadata": {},
   "outputs": [
    {
     "data": {
      "text/plain": [
       "cast\n",
       "Aaron Eckhart        1.768422e+08\n",
       "Abbie Cornish        4.404650e+07\n",
       "Abigail Breslin      5.270388e+07\n",
       "Adam Sandler         1.015443e+08\n",
       "Al Pacino            1.228691e+08\n",
       "                         ...     \n",
       "Winona Ryder         6.675413e+07\n",
       "Woody Harrelson      2.287871e+08\n",
       "Zach Galifianakis    1.469285e+08\n",
       "Zoe Saldana          6.349191e+08\n",
       "Zooey Deschanel      3.853914e+07\n",
       "Name: profit, Length: 321, dtype: float64"
      ]
     },
     "metadata": {},
     "output_type": "display_data"
    },
    {
     "data": {
      "text/plain": [
       "cast\n",
       "Aaron Eckhart        2.018311\n",
       "Abbie Cornish        1.379922\n",
       "Abigail Breslin      1.463021\n",
       "Adam Sandler         1.677745\n",
       "Al Pacino            2.152814\n",
       "                       ...   \n",
       "Winona Ryder         1.689443\n",
       "Woody Harrelson      2.796703\n",
       "Zach Galifianakis    1.534692\n",
       "Zoe Saldana          5.319022\n",
       "Zooey Deschanel      1.341595\n",
       "Name: popularity, Length: 321, dtype: float64"
      ]
     },
     "metadata": {},
     "output_type": "display_data"
    }
   ],
   "source": [
    "mean_profit_by_cast = cast_filtered.groupby(\"cast\")[\"profit\"].mean()\n",
    "mean_popularity_by_cast = cast_filtered.groupby(\"cast\")[\"popularity\"].mean()\n",
    "display(mean_profit_by_cast, mean_popularity_by_cast)"
   ]
  },
  {
   "cell_type": "code",
   "execution_count": 10,
   "metadata": {},
   "outputs": [
    {
     "name": "stdout",
     "output_type": "stream",
     "text": [
      "cast\n",
      "Rupert Grint          7.103065e+08\n",
      "Ian McKellen          6.528630e+08\n",
      "Zoe Saldana           6.349191e+08\n",
      "Sigourney Weaver      6.097290e+08\n",
      "Orlando Bloom         6.038917e+08\n",
      "Emma Watson           5.806230e+08\n",
      "Daniel Radcliffe      5.641885e+08\n",
      "Michelle Rodriguez    5.511121e+08\n",
      "Paul Walker           5.437462e+08\n",
      "Liam Hemsworth        4.915336e+08\n",
      "Name: profit, dtype: float64\n",
      "\n",
      "\n",
      "cast\n",
      "Chris Pratt       7.603355\n",
      "Tom Hardy         7.363336\n",
      "Ian McKellen      5.955087\n",
      "Michael Caine     5.647003\n",
      "Casey Affleck     5.538732\n",
      "Orlando Bloom     5.353645\n",
      "Zoe Saldana       5.319022\n",
      "Liam Hemsworth    5.106294\n",
      "Rupert Grint      5.082768\n",
      "Miles Teller      4.737795\n",
      "Name: popularity, dtype: float64\n"
     ]
    }
   ],
   "source": [
    "top_10_cast_profit = mean_profit_by_cast.sort_values(ascending=False).head(10)\n",
    "top_10_cast_popularity = mean_popularity_by_cast.sort_values(ascending=False).head(10)\n",
    "\n",
    "\n",
    "# Print the top 10 casts\n",
    "print(top_10_cast_profit)\n",
    "print(\"\\n\")\n",
    "print(top_10_cast_popularity)"
   ]
  },
  {
   "cell_type": "markdown",
   "metadata": {},
   "source": [
    "#### *production_companies*"
   ]
  },
  {
   "cell_type": "code",
   "execution_count": 11,
   "metadata": {},
   "outputs": [
    {
     "data": {
      "text/plain": [
       "production_companies\n",
       "1492 Pictures                        2.580206e+08\n",
       "20th Century Fox                     9.376905e+07\n",
       "21 Laps Entertainment                1.021079e+08\n",
       "3 Arts Entertainment                 6.062205e+07\n",
       "Affirm Films                         3.315747e+07\n",
       "                                         ...     \n",
       "Warner Bros. Animation               9.523564e+07\n",
       "Warner Independent Pictures (WIP)    1.202267e+07\n",
       "Weed Road Pictures                   1.637005e+08\n",
       "WingNut Films                        5.280403e+08\n",
       "Working Title Films                  9.564426e+07\n",
       "Name: profit, Length: 155, dtype: float64"
      ]
     },
     "metadata": {},
     "output_type": "display_data"
    },
    {
     "data": {
      "text/plain": [
       "production_companies\n",
       "1492 Pictures                        2.648557\n",
       "20th Century Fox                     1.527272\n",
       "21 Laps Entertainment                1.343531\n",
       "3 Arts Entertainment                 1.819087\n",
       "Affirm Films                         0.492822\n",
       "                                       ...   \n",
       "Warner Bros. Animation               1.234895\n",
       "Warner Independent Pictures (WIP)    0.688099\n",
       "Weed Road Pictures                   1.439762\n",
       "WingNut Films                        5.098463\n",
       "Working Title Films                  1.562140\n",
       "Name: popularity, Length: 155, dtype: float64"
      ]
     },
     "metadata": {},
     "output_type": "display_data"
    }
   ],
   "source": [
    "mean_profit_by_prod = prod_filtered.groupby(\"production_companies\")[\"profit\"].mean()\n",
    "mean_popularity_by_prod = prod_filtered.groupby(\"production_companies\")[\"popularity\"].mean()\n",
    "display(mean_profit_by_prod, mean_popularity_by_prod)"
   ]
  },
  {
   "cell_type": "code",
   "execution_count": 12,
   "metadata": {},
   "outputs": [
    {
     "name": "stdout",
     "output_type": "stream",
     "text": [
      "production_companies\n",
      "Lucasfilm                  6.794342e+08\n",
      "Heyday Films               6.235558e+08\n",
      "Marvel Studios             6.072975e+08\n",
      "Bad Robot                  5.541445e+08\n",
      "WingNut Films              5.280403e+08\n",
      "Syncopy                    5.002794e+08\n",
      "Pixar Animation Studios    4.569506e+08\n",
      "Blue Sky Studios           4.377500e+08\n",
      "Ingenious Film Partners    3.910382e+08\n",
      "Dentsu                     3.851518e+08\n",
      "Name: profit, dtype: float64\n",
      "\n",
      "\n",
      "production_companies\n",
      "Syncopy                         8.760872\n",
      "Marvel Studios                  7.205610\n",
      "Dentsu                          5.404452\n",
      "Lucasfilm                       5.224876\n",
      "WingNut Films                   5.098463\n",
      "Moving Picture Company (MPC)    4.850131\n",
      "Legendary Pictures              4.758827\n",
      "Heyday Films                    4.673604\n",
      "TSG Entertainment               4.020649\n",
      "Thunder Road Pictures           3.978390\n",
      "Name: popularity, dtype: float64\n"
     ]
    }
   ],
   "source": [
    "top_10_prod_profit = mean_profit_by_prod.sort_values(ascending=False).head(10)\n",
    "top_10_prod_popularity = mean_popularity_by_prod.sort_values(ascending=False).head(10)\n",
    "\n",
    "\n",
    "# Print the top 10 casts\n",
    "print(top_10_prod_profit)\n",
    "print(\"\\n\")\n",
    "print(top_10_prod_popularity)"
   ]
  },
  {
   "cell_type": "markdown",
   "metadata": {},
   "source": [
    "#### *director*"
   ]
  },
  {
   "cell_type": "code",
   "execution_count": 13,
   "metadata": {},
   "outputs": [
    {
     "data": {
      "text/plain": [
       "director\n",
       "Aaron Seltzer                     3.476799e+07\n",
       "Adam McKay                        8.874854e+07\n",
       "Adam Shankman                     2.802564e+07\n",
       "Alan Taylor                       2.976843e+08\n",
       "Alejandro GonzÃ¡lez IÃ±Ã¡rritu    2.191892e+08\n",
       "                                      ...     \n",
       "Wes Anderson                      2.936709e+07\n",
       "Wes Ball                          2.822884e+08\n",
       "Will Gluck                        6.034506e+07\n",
       "William Friedkin                  2.134856e+08\n",
       "Zack Snyder                       1.875356e+08\n",
       "Name: profit, Length: 299, dtype: float64"
      ]
     },
     "metadata": {},
     "output_type": "display_data"
    },
    {
     "data": {
      "text/plain": [
       "director\n",
       "Aaron Seltzer                     0.834562\n",
       "Adam McKay                        2.326714\n",
       "Adam Shankman                     1.387662\n",
       "Alan Taylor                       6.883129\n",
       "Alejandro GonzÃ¡lez IÃ±Ã¡rritu    5.053031\n",
       "                                    ...   \n",
       "Wes Anderson                      1.743630\n",
       "Wes Ball                          5.553082\n",
       "Will Gluck                        1.750489\n",
       "William Friedkin                  1.246551\n",
       "Zack Snyder                       2.031628\n",
       "Name: popularity, Length: 299, dtype: float64"
      ]
     },
     "metadata": {},
     "output_type": "display_data"
    }
   ],
   "source": [
    "mean_profit_by_dir = dir_filtered.groupby(\"director\")[\"profit\"].mean()\n",
    "mean_popularity_by_dir = dir_filtered.groupby(\"director\")[\"popularity\"].mean()\n",
    "display(mean_profit_by_dir, mean_popularity_by_dir)"
   ]
  },
  {
   "cell_type": "code",
   "execution_count": 14,
   "metadata": {},
   "outputs": [
    {
     "name": "stdout",
     "output_type": "stream",
     "text": [
      "director\n",
      "Joss Whedon       1.212297e+09\n",
      "James Cameron     1.066388e+09\n",
      "David Yates       8.448239e+08\n",
      "Pierre Coffin     8.173356e+08\n",
      "J.J. Abrams       7.753747e+08\n",
      "Chris Renaud      6.846379e+08\n",
      "Sam Mendes        6.285107e+08\n",
      "Lee Unkrich       6.191573e+08\n",
      "Peter Jackson     6.072054e+08\n",
      "Andrew Adamson    5.971240e+08\n",
      "Name: profit, dtype: float64\n",
      "\n",
      "\n",
      "director\n",
      "George Miller        14.675428\n",
      "Christopher Nolan     8.635610\n",
      "Robert Schwentke      7.401188\n",
      "James Gunn            7.377549\n",
      "Alan Taylor           6.883129\n",
      "Joe Russo             6.875857\n",
      "Anthony Russo         6.875857\n",
      "Joss Whedon           6.791347\n",
      "Peter Jackson         5.625672\n",
      "Wes Ball              5.553082\n",
      "Name: popularity, dtype: float64\n"
     ]
    }
   ],
   "source": [
    "top_10_dir_profit = mean_profit_by_dir.sort_values(ascending=False).head(10)\n",
    "top_10_dir_popularity = mean_popularity_by_dir.sort_values(ascending=False).head(10)\n",
    "\n",
    "\n",
    "# Print the top 10 casts\n",
    "print(top_10_dir_profit)\n",
    "print(\"\\n\")\n",
    "print(top_10_dir_popularity)"
   ]
  },
  {
   "cell_type": "markdown",
   "metadata": {},
   "source": [
    "#### *genre*"
   ]
  },
  {
   "cell_type": "code",
   "execution_count": 15,
   "metadata": {},
   "outputs": [
    {
     "data": {
      "text/plain": [
       "genres\n",
       "Fantasy            2.753663e+08\n",
       "Adventure          2.748331e+08\n",
       "Animation          2.532673e+08\n",
       "Family             2.350913e+08\n",
       "Science Fiction    1.986346e+08\n",
       "Action             1.785419e+08\n",
       "Comedy             1.014472e+08\n",
       "War                9.909955e+07\n",
       "Thriller           9.789353e+07\n",
       "Mystery            9.589013e+07\n",
       "Romance            8.407155e+07\n",
       "Music              8.164122e+07\n",
       "Crime              7.559482e+07\n",
       "Drama              6.981669e+07\n",
       "Horror             6.449803e+07\n",
       "History            5.926379e+07\n",
       "Western            4.745375e+07\n",
       "Documentary        1.980633e+07\n",
       "Name: profit, dtype: float64"
      ]
     },
     "metadata": {},
     "output_type": "display_data"
    },
    {
     "data": {
      "text/plain": [
       "genres\n",
       "Science Fiction    3.067299\n",
       "Adventure          3.017460\n",
       "Fantasy            2.600988\n",
       "Western            2.510376\n",
       "Action             2.482394\n",
       "Animation          2.068166\n",
       "Family             2.012103\n",
       "Thriller           1.953044\n",
       "Mystery            1.827205\n",
       "War                1.813071\n",
       "Crime              1.563969\n",
       "Drama              1.414404\n",
       "Comedy             1.385712\n",
       "Music              1.309767\n",
       "Romance            1.280101\n",
       "History            1.273964\n",
       "Horror             1.168778\n",
       "Documentary        0.363880\n",
       "Name: popularity, dtype: float64"
      ]
     },
     "metadata": {},
     "output_type": "display_data"
    }
   ],
   "source": [
    "mean_profit_by_genres = genres_filtered.groupby(\"genres\")[\"profit\"].mean().sort_values(ascending=False)\n",
    "mean_popularity_by_genres = genres_filtered.groupby(\"genres\")[\"popularity\"].mean().sort_values(ascending=False)\n",
    "display(mean_profit_by_genres, mean_popularity_by_genres)"
   ]
  },
  {
   "cell_type": "code",
   "execution_count": 35,
   "metadata": {},
   "outputs": [
    {
     "data": {
      "text/plain": [
       "<AxesSubplot:xlabel='genres', ylabel='profit'>"
      ]
     },
     "execution_count": 35,
     "metadata": {},
     "output_type": "execute_result"
    },
    {
     "data": {
      "image/png": "[encoded data removed]",
      "text/plain": [
       "<Figure size 1440x1440 with 2 Axes>"
      ]
     },
     "metadata": {},
     "output_type": "display_data"
    }
   ],
   "source": [
    "f, axes = plt.subplots(2, 1, figsize=(20, 20))\n",
    "\n",
    "sb.boxplot(data=genres_filtered, x=\"genres\", y=\"popularity\", orient = 'v', ax = axes[0])\n",
    "sb.boxplot(data=genres_filtered, x=\"genres\", y=\"profit\", orient = 'v', ax = axes[1])\n",
    "\n"
   ]
  },
  {
   "cell_type": "code",
   "execution_count": null,
   "metadata": {},
   "outputs": [],
   "source": [
    "sb.boxplot(data=genres_filtered, x=\"genres\", y=\"profit\", orient = 'v')"
   ]
  },
  {
   "cell_type": "markdown",
   "metadata": {},
   "source": [
    "---\n",
    "## Analysing correlation between categorical factors and success factors\n",
    "\n",
    "The code below shows the correlation between different categorical factors and success factors(profit and popularity).<br>\n",
    "This is done through the use of one-hot encoding by coverting categorical data to numerical data.\n"
   ]
  },
  {
   "cell_type": "markdown",
   "metadata": {},
   "source": [
    "### *cast*"
   ]
  },
  {
   "cell_type": "code",
   "execution_count": 16,
   "metadata": {},
   "outputs": [],
   "source": [
    "# use one hot encoding to create binary indicator variables for the cast\n",
    "cast_dummies = pd.get_dummies(cast_filtered['cast'])\n",
    "\n",
    "cast_success = pd.concat([cast_dummies, cast_filtered], axis=1)\n",
    "\n",
    "# drop the original 'cast' column since it is no longer needed\n",
    "cast_data = cast_success.drop('cast', axis=1)\n",
    "cast_popularity = cast_data.drop('profit', axis=1)\n",
    "cast_profit = cast_data.drop('popularity', axis=1)\n",
    "\n",
    "cast_profit = cast_profit.groupby(cast_profit.index).sum()\n",
    "cast_popularity = cast_popularity.groupby(cast_popularity.index).sum()\n"
   ]
  },
  {
   "cell_type": "code",
   "execution_count": 17,
   "metadata": {},
   "outputs": [
    {
     "name": "stdout",
     "output_type": "stream",
     "text": [
      "profit            1.000000\n",
      "Orlando Bloom     0.259912\n",
      "Rupert Grint      0.243882\n",
      "Ian McKellen      0.221418\n",
      "Emma Watson       0.221074\n",
      "                    ...   \n",
      "Paul Giamatti    -0.037661\n",
      "Colin Farrell    -0.042037\n",
      "Kurt Russell     -0.042403\n",
      "Susan Sarandon   -0.044264\n",
      "Julianne Moore   -0.045652\n",
      "Name: profit, Length: 322, dtype: float64\n"
     ]
    }
   ],
   "source": [
    "corr_matrix_cast_profit = cast_profit.corr()\n",
    "target_column = 'profit'\n",
    "corr_cast_profit = corr_matrix_cast_profit[target_column]\n",
    "\n",
    "# Sort the correlations in descending order\n",
    "corr_cast_profit = corr_cast_profit.sort_values(ascending=False)\n",
    "\n",
    "print(corr_cast_profit)"
   ]
  },
  {
   "cell_type": "code",
   "execution_count": 18,
   "metadata": {},
   "outputs": [
    {
     "name": "stdout",
     "output_type": "stream",
     "text": [
      "popularity          1.000000\n",
      "Michael Caine       0.281095\n",
      "Orlando Bloom       0.228840\n",
      "Ian McKellen        0.203125\n",
      "Casey Affleck       0.199023\n",
      "                      ...   \n",
      "Milla Jovovich     -0.036162\n",
      "Roger Moore        -0.036238\n",
      "Donald Pleasence   -0.036757\n",
      "Susan Sarandon     -0.037712\n",
      "Paul Giamatti      -0.038377\n",
      "Name: popularity, Length: 322, dtype: float64\n"
     ]
    }
   ],
   "source": [
    "corr_matrix_cast_pop = cast_popularity.corr()\n",
    "target_column = 'popularity'\n",
    "corr_cast_pop = corr_matrix_cast_pop[target_column]\n",
    "\n",
    "# Sort the correlations in descending order\n",
    "corr_cast_pop = corr_cast_pop.sort_values(ascending=False)\n",
    "\n",
    "print(corr_cast_pop)"
   ]
  },
  {
   "cell_type": "markdown",
   "metadata": {},
   "source": [
    "### *production_companies*"
   ]
  },
  {
   "cell_type": "code",
   "execution_count": 19,
   "metadata": {},
   "outputs": [],
   "source": [
    "# use one hot encoding to create binary indicator variables for the cast\n",
    "prod_dummies = pd.get_dummies(prod_filtered['production_companies'])\n",
    "\n",
    "prod_success = pd.concat([prod_dummies, prod_filtered], axis=1)\n",
    "\n",
    "# drop the original 'cast' column since it is no longer needed\n",
    "prod_data = prod_success.drop('production_companies', axis=1)\n",
    "prod_popularity = prod_data.drop('profit', axis=1)\n",
    "prod_profit = prod_data.drop('popularity', axis=1)\n",
    "\n",
    "prod_profit = prod_profit.groupby(prod_profit.index).sum()\n",
    "prod_popularity = prod_popularity.groupby(prod_popularity.index).sum()\n"
   ]
  },
  {
   "cell_type": "code",
   "execution_count": 20,
   "metadata": {},
   "outputs": [
    {
     "name": "stdout",
     "output_type": "stream",
     "text": [
      "profit                      1.000000\n",
      "Syncopy                     0.223022\n",
      "Heyday Films                0.221612\n",
      "Dentsu                      0.189915\n",
      "Amblin Entertainment        0.180829\n",
      "                              ...   \n",
      "Screen Gems                -0.046014\n",
      "Morgan Creek Productions   -0.048024\n",
      "BBC Films                  -0.048527\n",
      "Dimension Films            -0.053268\n",
      "Miramax Films              -0.070913\n",
      "Name: profit, Length: 156, dtype: float64\n"
     ]
    }
   ],
   "source": [
    "corr_matrix_prod_profit = prod_profit.corr()\n",
    "target_column = 'profit'\n",
    "corr_prod_profit = corr_matrix_prod_profit[target_column]\n",
    "\n",
    "# Sort the correlations in descending order\n",
    "corr_prod_profit = corr_prod_profit.sort_values(ascending=False)\n",
    "\n",
    "print(corr_prod_profit)"
   ]
  },
  {
   "cell_type": "code",
   "execution_count": 21,
   "metadata": {},
   "outputs": [
    {
     "name": "stdout",
     "output_type": "stream",
     "text": [
      "popularity            1.000000\n",
      "Syncopy               0.379647\n",
      "Legendary Pictures    0.300930\n",
      "Dentsu                0.219249\n",
      "Warner Bros.          0.154385\n",
      "                        ...   \n",
      "BBC Films            -0.039286\n",
      "Lions Gate Films     -0.040814\n",
      "UK Film Council      -0.041714\n",
      "Dimension Films      -0.045426\n",
      "Miramax Films        -0.059953\n",
      "Name: popularity, Length: 156, dtype: float64\n"
     ]
    }
   ],
   "source": [
    "corr_matrix_prod_pop = prod_popularity.corr()\n",
    "target_column = 'popularity'\n",
    "corr_prod_pop = corr_matrix_prod_pop[target_column]\n",
    "\n",
    "# Sort the correlations in descending order\n",
    "corr_prod_pop = corr_prod_pop.sort_values(ascending=False)\n",
    "\n",
    "print(corr_prod_pop)"
   ]
  },
  {
   "cell_type": "markdown",
   "metadata": {},
   "source": [
    "### *director*"
   ]
  },
  {
   "cell_type": "code",
   "execution_count": 22,
   "metadata": {},
   "outputs": [],
   "source": [
    "# use one hot encoding to create binary indicator variables for the cast\n",
    "dir_dummies = pd.get_dummies(dir_filtered['director'])\n",
    "\n",
    "dir_success = pd.concat([dir_dummies, dir_filtered], axis=1)\n",
    "\n",
    "# drop the original 'cast' column since it is no longer needed\n",
    "dir_data = dir_success.drop('director', axis=1)\n",
    "dir_popularity = dir_data.drop('profit', axis=1)\n",
    "dir_profit = dir_data.drop('popularity', axis=1)\n",
    "\n",
    "dir_profit = dir_profit.groupby(dir_profit.index).sum()\n",
    "dir_popularity = dir_popularity.groupby(dir_popularity.index).sum()"
   ]
  },
  {
   "cell_type": "code",
   "execution_count": 23,
   "metadata": {},
   "outputs": [
    {
     "name": "stdout",
     "output_type": "stream",
     "text": [
      "profit            1.000000\n",
      "Lee Unkrich       0.258284\n",
      "Andrew Adamson    0.242343\n",
      "Pierre Coffin     0.232148\n",
      "James Cameron     0.217356\n",
      "                    ...   \n",
      "Kevin Smith      -0.045148\n",
      "Sam Fell         -0.047568\n",
      "David Bowers     -0.048100\n",
      "Brian Robbins    -0.049066\n",
      "John Carpenter   -0.073671\n",
      "Name: profit, Length: 300, dtype: float64\n"
     ]
    }
   ],
   "source": [
    "corr_matrix_dir_profit = dir_profit.corr()\n",
    "target_column = 'profit'\n",
    "corr_dir_profit = corr_matrix_dir_profit[target_column]\n",
    "\n",
    "# Sort the correlations in descending order\n",
    "corr_dir_profit = corr_dir_profit.sort_values(ascending=False)\n",
    "\n",
    "print(corr_dir_profit)"
   ]
  },
  {
   "cell_type": "code",
   "execution_count": 24,
   "metadata": {},
   "outputs": [
    {
     "name": "stdout",
     "output_type": "stream",
     "text": [
      "popularity           1.000000\n",
      "George Miller        0.232617\n",
      "Christopher Nolan    0.223327\n",
      "Anthony Russo        0.215242\n",
      "Joe Russo            0.215242\n",
      "                       ...   \n",
      "Rob Zombie          -0.045556\n",
      "Justin Lin          -0.047064\n",
      "Alex Kendrick       -0.050142\n",
      "Brian Robbins       -0.053281\n",
      "John Carpenter      -0.067816\n",
      "Name: popularity, Length: 300, dtype: float64\n"
     ]
    }
   ],
   "source": [
    "corr_matrix_dir_pop = dir_popularity.corr()\n",
    "target_column = 'popularity'\n",
    "corr_dir_pop = corr_matrix_dir_pop[target_column]\n",
    "\n",
    "# Sort the correlations in descending order\n",
    "corr_dir_pop = corr_dir_pop.sort_values(ascending=False)\n",
    "\n",
    "print(corr_dir_pop)"
   ]
  },
  {
   "cell_type": "markdown",
   "metadata": {},
   "source": [
    "### *genres*"
   ]
  },
  {
   "cell_type": "code",
   "execution_count": 25,
   "metadata": {},
   "outputs": [],
   "source": [
    "# use one hot encoding to create binary indicator variables for the cast\n",
    "genres_dummies = pd.get_dummies(genres_filtered['genres'])\n",
    "\n",
    "genres_success = pd.concat([genres_dummies, genres_filtered], axis=1)\n",
    "\n",
    "# drop the original 'cast' column since it is no longer needed\n",
    "genres_data = genres_success.drop('genres', axis=1)\n",
    "genres_popularity = genres_data.drop('profit', axis=1)\n",
    "genres_profit = genres_data.drop('popularity', axis=1)\n",
    "\n",
    "genres_profit = genres_profit.groupby(genres_profit.index).sum()\n",
    "pgenres_popularity = genres_popularity.groupby(genres_popularity.index).sum()"
   ]
  },
  {
   "cell_type": "code",
   "execution_count": 26,
   "metadata": {},
   "outputs": [
    {
     "name": "stdout",
     "output_type": "stream",
     "text": [
      "profit             1.000000\n",
      "Adventure          0.420127\n",
      "Fantasy            0.296249\n",
      "Family             0.243307\n",
      "Animation          0.229925\n",
      "Action             0.199886\n",
      "Science Fiction    0.180558\n",
      "Music             -0.015397\n",
      "War               -0.018011\n",
      "Mystery           -0.020443\n",
      "Western           -0.035711\n",
      "Comedy            -0.038322\n",
      "History           -0.045157\n",
      "Documentary       -0.049042\n",
      "Thriller          -0.049859\n",
      "Romance           -0.070540\n",
      "Crime             -0.074965\n",
      "Horror            -0.089352\n",
      "Drama             -0.195766\n",
      "Name: profit, dtype: float64\n"
     ]
    }
   ],
   "source": [
    "corr_matrix_genres_profit = genres_profit.corr()\n",
    "target_column = 'profit'\n",
    "corr_genres_profit = corr_matrix_genres_profit[target_column]\n",
    "\n",
    "# Sort the correlations in descending order\n",
    "corr_genres_profit = corr_genres_profit.sort_values(ascending=False)\n",
    "\n",
    "print(corr_genres_profit)"
   ]
  },
  {
   "cell_type": "code",
   "execution_count": 27,
   "metadata": {},
   "outputs": [
    {
     "name": "stdout",
     "output_type": "stream",
     "text": [
      "popularity         1.000000\n",
      "Adventure          0.137748\n",
      "Science Fiction    0.119268\n",
      "Action             0.083213\n",
      "Fantasy            0.059366\n",
      "Western            0.014560\n",
      "Animation          0.009312\n",
      "Family             0.006313\n",
      "Thriller           0.001320\n",
      "War               -0.005311\n",
      "Mystery           -0.008375\n",
      "Music             -0.028008\n",
      "History           -0.028384\n",
      "Crime             -0.038723\n",
      "Documentary       -0.043681\n",
      "Horror            -0.066459\n",
      "Romance           -0.068179\n",
      "Comedy            -0.086270\n",
      "Drama             -0.094942\n",
      "Name: popularity, dtype: float64\n"
     ]
    }
   ],
   "source": [
    "corr_matrix_genres_pop = genres_popularity.corr()\n",
    "target_column = 'popularity'\n",
    "corr_genres_pop = corr_matrix_genres_pop[target_column]\n",
    "\n",
    "# Sort the correlations in descending order\n",
    "corr_genres_pop = corr_genres_pop.sort_values(ascending=False)\n",
    "\n",
    "print(corr_genres_pop)"
   ]
  }
 ],
 "metadata": {
  "kernelspec": {
   "display_name": "Python 3.9.12 ('base')",
   "language": "python",
   "name": "python3"
  },
  "language_info": {
   "codemirror_mode": {
    "name": "ipython",
    "version": 3
   },
   "file_extension": ".py",
   "mimetype": "text/x-python",
   "name": "python",
   "nbconvert_exporter": "python",
   "pygments_lexer": "ipython3",
   "version": "3.9.12"
  },
  "orig_nbformat": 4,
  "vscode": {
   "interpreter": {
    "hash": "6767b1d156597b9b908f311c67bb9c3df6a3e2b3c128c71e54ebdc80305290ce"
   }
  }
 },
 "nbformat": 4,
 "nbformat_minor": 2
}
