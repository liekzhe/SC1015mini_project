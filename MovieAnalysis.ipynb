{
 "cells": [
  {
   "cell_type": "code",
   "execution_count": 3,
   "metadata": {},
   "outputs": [],
   "source": [
    "import numpy as np\n",
    "import pandas as pd\n",
    "import seaborn as sb\n",
    "import matplotlib.pyplot as plt \n",
    "sb.set() "
   ]
  },
  {
   "cell_type": "code",
   "execution_count": 4,
   "metadata": {},
   "outputs": [],
   "source": [
    "movie_data = pd.read_csv('TMBD Movie Dataset.csv')"
   ]
  },
  {
   "cell_type": "markdown",
   "metadata": {},
   "source": [
    "We will be using profit and popularity as the main factors of success"
   ]
  },
  {
   "cell_type": "code",
   "execution_count": 5,
   "metadata": {},
   "outputs": [],
   "source": [
    "profit = pd.DataFrame(movie_data['profit'])\n",
    "popularity = pd.DataFrame(movie_data['popularity'])"
   ]
  },
  {
   "cell_type": "markdown",
   "metadata": {},
   "source": [
    "We have filtered out the factors that we identified to have relevance to the success of a movie "
   ]
  },
  {
   "cell_type": "code",
   "execution_count": 6,
   "metadata": {},
   "outputs": [],
   "source": [
    "budget = pd.DataFrame(movie_data['budget'])\n",
    "cast = pd.DataFrame(movie_data['cast'])\n",
    "director = pd.DataFrame(movie_data['director'])\n",
    "genres = pd.DataFrame(movie_data['genres'])\n",
    "runtime = pd.DataFrame(movie_data['runtime'])\n",
    "production_companies = pd.DataFrame(movie_data['production_companies'])\n",
    "release_year = pd.DataFrame(movie_data['release_year'])\n",
    "release_date = pd.DataFrame(movie_data['release_date'])\n",
    "allfactors = movie_data[['budget', 'cast', 'director', 'genres', 'production_companies', 'release_year', 'release_date', 'runtime', 'popularity', 'profit']]"
   ]
  },
  {
   "cell_type": "markdown",
   "metadata": {},
   "source": [
    "Removing NaN values"
   ]
  },
  {
   "cell_type": "code",
   "execution_count": 8,
   "metadata": {},
   "outputs": [
    {
     "name": "stdout",
     "output_type": "stream",
     "text": [
      "The shape of the new dataset: (1287, 10)\n"
     ]
    }
   ],
   "source": [
    "allfactors.dropna()\n",
    "allfactors = allfactors.reset_index(drop=True)\n",
    "print(f\"The shape of the new dataset: {allfactors.shape}\")"
   ]
  },
  {
   "cell_type": "code",
   "execution_count": 10,
   "metadata": {},
   "outputs": [
    {
     "data": {
      "text/plain": [
       "False"
      ]
     },
     "execution_count": 10,
     "metadata": {},
     "output_type": "execute_result"
    }
   ],
   "source": [
    "allfactors.isnull().values.any()"
   ]
  },
  {
   "cell_type": "code",
   "execution_count": 9,
   "metadata": {},
   "outputs": [],
   "source": [
    "factors = allfactors[['budget', 'cast', 'director', 'genres', 'production_companies', 'release_year', 'release_date', 'runtime']]\n",
    "success = allfactors[['popularity', 'profit']]"
   ]
  },
  {
   "cell_type": "code",
   "execution_count": 15,
   "metadata": {},
   "outputs": [
    {
     "name": "stderr",
     "output_type": "stream",
     "text": [
      "/var/folders/gc/h3ljscw12zx23t0t29xp4vv40000gn/T/ipykernel_47121/1805691096.py:1: SettingWithCopyWarning: \n",
      "A value is trying to be set on a copy of a slice from a DataFrame.\n",
      "Try using .loc[row_indexer,col_indexer] = value instead\n",
      "\n",
      "See the caveats in the documentation: https://pandas.pydata.org/pandas-docs/stable/user_guide/indexing.html#returning-a-view-versus-a-copy\n",
      "  factors[['year', 'month', 'day']] = factors['release_date'].str.split('-', expand=True)\n"
     ]
    }
   ],
   "source": [
    "factors[['year', 'month', 'day']] = factors['release_date'].str.split('-', expand=True)\n",
    "factors.drop(['year', 'day'], axis=1, inplace=True)"
   ]
  },
  {
   "cell_type": "code",
   "execution_count": 17,
   "metadata": {},
   "outputs": [],
   "source": []
  }
 ],
 "metadata": {
  "kernelspec": {
   "display_name": "Python 3.9.12 ('base')",
   "language": "python",
   "name": "python3"
  },
  "language_info": {
   "codemirror_mode": {
    "name": "ipython",
    "version": 3
   },
   "file_extension": ".py",
   "mimetype": "text/x-python",
   "name": "python",
   "nbconvert_exporter": "python",
   "pygments_lexer": "ipython3",
   "version": "3.9.12"
  },
  "orig_nbformat": 4,
  "vscode": {
   "interpreter": {
    "hash": "6767b1d156597b9b908f311c67bb9c3df6a3e2b3c128c71e54ebdc80305290ce"
   }
  }
 },
 "nbformat": 4,
 "nbformat_minor": 2
}
