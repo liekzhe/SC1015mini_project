{
 "cells": [
  {
   "cell_type": "code",
   "execution_count": 189,
   "metadata": {},
   "outputs": [],
   "source": [
    "import numpy as np\n",
    "import pandas as pd\n",
    "import seaborn as sb\n",
    "import matplotlib.pyplot as plt \n",
    "from scipy.stats import f_oneway\n",
    "from IPython.display import display\n",
    "sb.set() "
   ]
  },
  {
   "cell_type": "markdown",
   "metadata": {},
   "source": [
    "## analysis of *casts* and success factors *(profit and popularity)*"
   ]
  },
  {
   "cell_type": "code",
   "execution_count": 197,
   "metadata": {},
   "outputs": [],
   "source": [
    "factors = pd.read_pickle('factors.pkl')\n",
    "cast = pd.read_pickle('cast.pkl')\n",
    "director = pd.read_pickle('director.pkl')\n",
    "production_companies = pd.read_pickle('production_companies.pkl')\n",
    "success = pd.read_pickle('success.pkl')\n"
   ]
  },
  {
   "cell_type": "markdown",
   "metadata": {},
   "source": [
    "#### *cast*"
   ]
  },
  {
   "cell_type": "code",
   "execution_count": 198,
   "metadata": {},
   "outputs": [
    {
     "data": {
      "text/html": [
       "<div>\n",
       "<style scoped>\n",
       "    .dataframe tbody tr th:only-of-type {\n",
       "        vertical-align: middle;\n",
       "    }\n",
       "\n",
       "    .dataframe tbody tr th {\n",
       "        vertical-align: top;\n",
       "    }\n",
       "\n",
       "    .dataframe thead th {\n",
       "        text-align: right;\n",
       "    }\n",
       "</style>\n",
       "<table border=\"1\" class=\"dataframe\">\n",
       "  <thead>\n",
       "    <tr style=\"text-align: right;\">\n",
       "      <th></th>\n",
       "      <th>popularity</th>\n",
       "      <th>profit</th>\n",
       "      <th>cast</th>\n",
       "    </tr>\n",
       "  </thead>\n",
       "  <tbody>\n",
       "    <tr>\n",
       "      <th>0</th>\n",
       "      <td>32.985763</td>\n",
       "      <td>1.363529e+09</td>\n",
       "      <td>Chris Pratt</td>\n",
       "    </tr>\n",
       "    <tr>\n",
       "      <th>0</th>\n",
       "      <td>32.985763</td>\n",
       "      <td>1.363529e+09</td>\n",
       "      <td>Bryce Dallas Howard</td>\n",
       "    </tr>\n",
       "    <tr>\n",
       "      <th>0</th>\n",
       "      <td>32.985763</td>\n",
       "      <td>1.363529e+09</td>\n",
       "      <td>Irrfan Khan</td>\n",
       "    </tr>\n",
       "    <tr>\n",
       "      <th>0</th>\n",
       "      <td>32.985763</td>\n",
       "      <td>1.363529e+09</td>\n",
       "      <td>Vincent D'Onofrio</td>\n",
       "    </tr>\n",
       "    <tr>\n",
       "      <th>0</th>\n",
       "      <td>32.985763</td>\n",
       "      <td>1.363529e+09</td>\n",
       "      <td>Nick Robinson</td>\n",
       "    </tr>\n",
       "    <tr>\n",
       "      <th>...</th>\n",
       "      <td>...</td>\n",
       "      <td>...</td>\n",
       "      <td>...</td>\n",
       "    </tr>\n",
       "    <tr>\n",
       "      <th>1286</th>\n",
       "      <td>1.157930</td>\n",
       "      <td>1.383000e+08</td>\n",
       "      <td>John Belushi</td>\n",
       "    </tr>\n",
       "    <tr>\n",
       "      <th>1286</th>\n",
       "      <td>1.157930</td>\n",
       "      <td>1.383000e+08</td>\n",
       "      <td>Tim Matheson</td>\n",
       "    </tr>\n",
       "    <tr>\n",
       "      <th>1286</th>\n",
       "      <td>1.157930</td>\n",
       "      <td>1.383000e+08</td>\n",
       "      <td>John Vernon</td>\n",
       "    </tr>\n",
       "    <tr>\n",
       "      <th>1286</th>\n",
       "      <td>1.157930</td>\n",
       "      <td>1.383000e+08</td>\n",
       "      <td>Verna Bloom</td>\n",
       "    </tr>\n",
       "    <tr>\n",
       "      <th>1286</th>\n",
       "      <td>1.157930</td>\n",
       "      <td>1.383000e+08</td>\n",
       "      <td>Tom Hulce</td>\n",
       "    </tr>\n",
       "  </tbody>\n",
       "</table>\n",
       "<p>6418 rows × 3 columns</p>\n",
       "</div>"
      ],
      "text/plain": [
       "      popularity        profit                 cast\n",
       "0      32.985763  1.363529e+09          Chris Pratt\n",
       "0      32.985763  1.363529e+09  Bryce Dallas Howard\n",
       "0      32.985763  1.363529e+09          Irrfan Khan\n",
       "0      32.985763  1.363529e+09    Vincent D'Onofrio\n",
       "0      32.985763  1.363529e+09        Nick Robinson\n",
       "...          ...           ...                  ...\n",
       "1286    1.157930  1.383000e+08         John Belushi\n",
       "1286    1.157930  1.383000e+08         Tim Matheson\n",
       "1286    1.157930  1.383000e+08          John Vernon\n",
       "1286    1.157930  1.383000e+08          Verna Bloom\n",
       "1286    1.157930  1.383000e+08            Tom Hulce\n",
       "\n",
       "[6418 rows x 3 columns]"
      ]
     },
     "execution_count": 198,
     "metadata": {},
     "output_type": "execute_result"
    }
   ],
   "source": [
    "cast_combined = pd.concat([success, cast], axis=1)\n",
    "cast_combined"
   ]
  },
  {
   "cell_type": "markdown",
   "metadata": {},
   "source": [
    "#### *production company*"
   ]
  },
  {
   "cell_type": "code",
   "execution_count": 199,
   "metadata": {},
   "outputs": [
    {
     "data": {
      "text/html": [
       "<div>\n",
       "<style scoped>\n",
       "    .dataframe tbody tr th:only-of-type {\n",
       "        vertical-align: middle;\n",
       "    }\n",
       "\n",
       "    .dataframe tbody tr th {\n",
       "        vertical-align: top;\n",
       "    }\n",
       "\n",
       "    .dataframe thead th {\n",
       "        text-align: right;\n",
       "    }\n",
       "</style>\n",
       "<table border=\"1\" class=\"dataframe\">\n",
       "  <thead>\n",
       "    <tr style=\"text-align: right;\">\n",
       "      <th></th>\n",
       "      <th>popularity</th>\n",
       "      <th>profit</th>\n",
       "      <th>production_companies</th>\n",
       "    </tr>\n",
       "  </thead>\n",
       "  <tbody>\n",
       "    <tr>\n",
       "      <th>0</th>\n",
       "      <td>32.985763</td>\n",
       "      <td>1.363529e+09</td>\n",
       "      <td>Universal Studios</td>\n",
       "    </tr>\n",
       "    <tr>\n",
       "      <th>0</th>\n",
       "      <td>32.985763</td>\n",
       "      <td>1.363529e+09</td>\n",
       "      <td>Amblin Entertainment</td>\n",
       "    </tr>\n",
       "    <tr>\n",
       "      <th>0</th>\n",
       "      <td>32.985763</td>\n",
       "      <td>1.363529e+09</td>\n",
       "      <td>Legendary Pictures</td>\n",
       "    </tr>\n",
       "    <tr>\n",
       "      <th>0</th>\n",
       "      <td>32.985763</td>\n",
       "      <td>1.363529e+09</td>\n",
       "      <td>Fuji Television Network</td>\n",
       "    </tr>\n",
       "    <tr>\n",
       "      <th>0</th>\n",
       "      <td>32.985763</td>\n",
       "      <td>1.363529e+09</td>\n",
       "      <td>Dentsu</td>\n",
       "    </tr>\n",
       "    <tr>\n",
       "      <th>...</th>\n",
       "      <td>...</td>\n",
       "      <td>...</td>\n",
       "      <td>...</td>\n",
       "    </tr>\n",
       "    <tr>\n",
       "      <th>1285</th>\n",
       "      <td>1.198849</td>\n",
       "      <td>6.970000e+07</td>\n",
       "      <td>Compass International Pictures</td>\n",
       "    </tr>\n",
       "    <tr>\n",
       "      <th>1285</th>\n",
       "      <td>1.198849</td>\n",
       "      <td>6.970000e+07</td>\n",
       "      <td>Falcon International Productions</td>\n",
       "    </tr>\n",
       "    <tr>\n",
       "      <th>1286</th>\n",
       "      <td>1.157930</td>\n",
       "      <td>1.383000e+08</td>\n",
       "      <td>Universal Pictures</td>\n",
       "    </tr>\n",
       "    <tr>\n",
       "      <th>1286</th>\n",
       "      <td>1.157930</td>\n",
       "      <td>1.383000e+08</td>\n",
       "      <td>Oregon Film Factory</td>\n",
       "    </tr>\n",
       "    <tr>\n",
       "      <th>1286</th>\n",
       "      <td>1.157930</td>\n",
       "      <td>1.383000e+08</td>\n",
       "      <td>Stage III Productions</td>\n",
       "    </tr>\n",
       "  </tbody>\n",
       "</table>\n",
       "<p>4050 rows × 3 columns</p>\n",
       "</div>"
      ],
      "text/plain": [
       "      popularity        profit              production_companies\n",
       "0      32.985763  1.363529e+09                 Universal Studios\n",
       "0      32.985763  1.363529e+09              Amblin Entertainment\n",
       "0      32.985763  1.363529e+09                Legendary Pictures\n",
       "0      32.985763  1.363529e+09           Fuji Television Network\n",
       "0      32.985763  1.363529e+09                            Dentsu\n",
       "...          ...           ...                               ...\n",
       "1285    1.198849  6.970000e+07    Compass International Pictures\n",
       "1285    1.198849  6.970000e+07  Falcon International Productions\n",
       "1286    1.157930  1.383000e+08                Universal Pictures\n",
       "1286    1.157930  1.383000e+08               Oregon Film Factory\n",
       "1286    1.157930  1.383000e+08             Stage III Productions\n",
       "\n",
       "[4050 rows x 3 columns]"
      ]
     },
     "execution_count": 199,
     "metadata": {},
     "output_type": "execute_result"
    }
   ],
   "source": [
    "prod_combined = pd.concat([success, production_companies], axis=1)\n",
    "prod_combined"
   ]
  },
  {
   "cell_type": "markdown",
   "metadata": {},
   "source": [
    "### Removing noisy data by dropping variables that appeared less than 5 times\n",
    "\n",
    "This is to improve accuracy of our analysis by removing casts that appeared less than 5 times as the corresponding values presented by them may not be accurate in depicting the relationship with the success factors."
   ]
  },
  {
   "cell_type": "markdown",
   "metadata": {},
   "source": [
    "#### *cast*"
   ]
  },
  {
   "cell_type": "code",
   "execution_count": 191,
   "metadata": {},
   "outputs": [
    {
     "name": "stdout",
     "output_type": "stream",
     "text": [
      "Number of unique index values in the dataframe:  1051\n"
     ]
    },
    {
     "data": {
      "text/html": [
       "<div>\n",
       "<style scoped>\n",
       "    .dataframe tbody tr th:only-of-type {\n",
       "        vertical-align: middle;\n",
       "    }\n",
       "\n",
       "    .dataframe tbody tr th {\n",
       "        vertical-align: top;\n",
       "    }\n",
       "\n",
       "    .dataframe thead th {\n",
       "        text-align: right;\n",
       "    }\n",
       "</style>\n",
       "<table border=\"1\" class=\"dataframe\">\n",
       "  <thead>\n",
       "    <tr style=\"text-align: right;\">\n",
       "      <th></th>\n",
       "      <th>popularity</th>\n",
       "      <th>profit</th>\n",
       "      <th>cast</th>\n",
       "    </tr>\n",
       "  </thead>\n",
       "  <tbody>\n",
       "    <tr>\n",
       "      <th>0</th>\n",
       "      <td>32.985763</td>\n",
       "      <td>1.363529e+09</td>\n",
       "      <td>Chris Pratt</td>\n",
       "    </tr>\n",
       "    <tr>\n",
       "      <th>1</th>\n",
       "      <td>28.419936</td>\n",
       "      <td>2.284364e+08</td>\n",
       "      <td>Tom Hardy</td>\n",
       "    </tr>\n",
       "    <tr>\n",
       "      <th>1</th>\n",
       "      <td>28.419936</td>\n",
       "      <td>2.284364e+08</td>\n",
       "      <td>Charlize Theron</td>\n",
       "    </tr>\n",
       "    <tr>\n",
       "      <th>2</th>\n",
       "      <td>13.112507</td>\n",
       "      <td>1.852382e+08</td>\n",
       "      <td>Kate Winslet</td>\n",
       "    </tr>\n",
       "    <tr>\n",
       "      <th>2</th>\n",
       "      <td>13.112507</td>\n",
       "      <td>1.852382e+08</td>\n",
       "      <td>Miles Teller</td>\n",
       "    </tr>\n",
       "    <tr>\n",
       "      <th>...</th>\n",
       "      <td>...</td>\n",
       "      <td>...</td>\n",
       "      <td>...</td>\n",
       "    </tr>\n",
       "    <tr>\n",
       "      <th>1279</th>\n",
       "      <td>2.508235</td>\n",
       "      <td>7.639876e+07</td>\n",
       "      <td>Sean Connery</td>\n",
       "    </tr>\n",
       "    <tr>\n",
       "      <th>1280</th>\n",
       "      <td>0.960984</td>\n",
       "      <td>-1.400000e+07</td>\n",
       "      <td>Kurt Russell</td>\n",
       "    </tr>\n",
       "    <tr>\n",
       "      <th>1282</th>\n",
       "      <td>1.549139</td>\n",
       "      <td>1.547778e+08</td>\n",
       "      <td>Roger Moore</td>\n",
       "    </tr>\n",
       "    <tr>\n",
       "      <th>1283</th>\n",
       "      <td>1.910465</td>\n",
       "      <td>1.301957e+08</td>\n",
       "      <td>Sean Connery</td>\n",
       "    </tr>\n",
       "    <tr>\n",
       "      <th>1285</th>\n",
       "      <td>1.198849</td>\n",
       "      <td>6.970000e+07</td>\n",
       "      <td>Donald Pleasence</td>\n",
       "    </tr>\n",
       "  </tbody>\n",
       "</table>\n",
       "<p>2556 rows × 3 columns</p>\n",
       "</div>"
      ],
      "text/plain": [
       "      popularity        profit              cast\n",
       "0      32.985763  1.363529e+09       Chris Pratt\n",
       "1      28.419936  2.284364e+08         Tom Hardy\n",
       "1      28.419936  2.284364e+08   Charlize Theron\n",
       "2      13.112507  1.852382e+08      Kate Winslet\n",
       "2      13.112507  1.852382e+08      Miles Teller\n",
       "...          ...           ...               ...\n",
       "1279    2.508235  7.639876e+07      Sean Connery\n",
       "1280    0.960984 -1.400000e+07      Kurt Russell\n",
       "1282    1.549139  1.547778e+08       Roger Moore\n",
       "1283    1.910465  1.301957e+08      Sean Connery\n",
       "1285    1.198849  6.970000e+07  Donald Pleasence\n",
       "\n",
       "[2556 rows x 3 columns]"
      ]
     },
     "execution_count": 191,
     "metadata": {},
     "output_type": "execute_result"
    }
   ],
   "source": [
    "# count the number of occurrences of each cast member\n",
    "cast_counts = cast_combined[\"cast\"].value_counts()\n",
    "\n",
    "# filter out casts that appear less than 5 times\n",
    "valid_casts = cast_counts[cast_counts >= 5].index.tolist()\n",
    "\n",
    "# create a new dataframe with only the valid casts\n",
    "cast_filtered = cast_combined[cast_combined[\"cast\"].isin(valid_casts)]\n",
    "\n",
    "num_unique_indexes = cast_filtered.index.nunique()\n",
    "\n",
    "# display the result\n",
    "print(\"Number of unique index values in the dataframe: \", num_unique_indexes)\n",
    "cast_filtered\n"
   ]
  },
  {
   "cell_type": "markdown",
   "metadata": {},
   "source": [
    "#### *production companies*"
   ]
  },
  {
   "cell_type": "code",
   "execution_count": 200,
   "metadata": {},
   "outputs": [
    {
     "name": "stdout",
     "output_type": "stream",
     "text": [
      "Number of unique index values in the dataframe:  1077\n"
     ]
    },
    {
     "data": {
      "text/html": [
       "<div>\n",
       "<style scoped>\n",
       "    .dataframe tbody tr th:only-of-type {\n",
       "        vertical-align: middle;\n",
       "    }\n",
       "\n",
       "    .dataframe tbody tr th {\n",
       "        vertical-align: top;\n",
       "    }\n",
       "\n",
       "    .dataframe thead th {\n",
       "        text-align: right;\n",
       "    }\n",
       "</style>\n",
       "<table border=\"1\" class=\"dataframe\">\n",
       "  <thead>\n",
       "    <tr style=\"text-align: right;\">\n",
       "      <th></th>\n",
       "      <th>popularity</th>\n",
       "      <th>profit</th>\n",
       "      <th>production_companies</th>\n",
       "    </tr>\n",
       "  </thead>\n",
       "  <tbody>\n",
       "    <tr>\n",
       "      <th>0</th>\n",
       "      <td>32.985763</td>\n",
       "      <td>1.363529e+09</td>\n",
       "      <td>Amblin Entertainment</td>\n",
       "    </tr>\n",
       "    <tr>\n",
       "      <th>0</th>\n",
       "      <td>32.985763</td>\n",
       "      <td>1.363529e+09</td>\n",
       "      <td>Legendary Pictures</td>\n",
       "    </tr>\n",
       "    <tr>\n",
       "      <th>0</th>\n",
       "      <td>32.985763</td>\n",
       "      <td>1.363529e+09</td>\n",
       "      <td>Dentsu</td>\n",
       "    </tr>\n",
       "    <tr>\n",
       "      <th>1</th>\n",
       "      <td>28.419936</td>\n",
       "      <td>2.284364e+08</td>\n",
       "      <td>Village Roadshow Pictures</td>\n",
       "    </tr>\n",
       "    <tr>\n",
       "      <th>2</th>\n",
       "      <td>13.112507</td>\n",
       "      <td>1.852382e+08</td>\n",
       "      <td>Summit Entertainment</td>\n",
       "    </tr>\n",
       "    <tr>\n",
       "      <th>...</th>\n",
       "      <td>...</td>\n",
       "      <td>...</td>\n",
       "      <td>...</td>\n",
       "    </tr>\n",
       "    <tr>\n",
       "      <th>1283</th>\n",
       "      <td>1.910465</td>\n",
       "      <td>1.301957e+08</td>\n",
       "      <td>Metro-Goldwyn-Mayer (MGM)</td>\n",
       "    </tr>\n",
       "    <tr>\n",
       "      <th>1284</th>\n",
       "      <td>1.778746</td>\n",
       "      <td>7.497449e+07</td>\n",
       "      <td>Eon Productions</td>\n",
       "    </tr>\n",
       "    <tr>\n",
       "      <th>1284</th>\n",
       "      <td>1.778746</td>\n",
       "      <td>7.497449e+07</td>\n",
       "      <td>Metro-Goldwyn-Mayer (MGM)</td>\n",
       "    </tr>\n",
       "    <tr>\n",
       "      <th>1284</th>\n",
       "      <td>1.778746</td>\n",
       "      <td>7.497449e+07</td>\n",
       "      <td>Danjaq</td>\n",
       "    </tr>\n",
       "    <tr>\n",
       "      <th>1286</th>\n",
       "      <td>1.157930</td>\n",
       "      <td>1.383000e+08</td>\n",
       "      <td>Universal Pictures</td>\n",
       "    </tr>\n",
       "  </tbody>\n",
       "</table>\n",
       "<p>2088 rows × 3 columns</p>\n",
       "</div>"
      ],
      "text/plain": [
       "      popularity        profit       production_companies\n",
       "0      32.985763  1.363529e+09       Amblin Entertainment\n",
       "0      32.985763  1.363529e+09         Legendary Pictures\n",
       "0      32.985763  1.363529e+09                     Dentsu\n",
       "1      28.419936  2.284364e+08  Village Roadshow Pictures\n",
       "2      13.112507  1.852382e+08       Summit Entertainment\n",
       "...          ...           ...                        ...\n",
       "1283    1.910465  1.301957e+08  Metro-Goldwyn-Mayer (MGM)\n",
       "1284    1.778746  7.497449e+07            Eon Productions\n",
       "1284    1.778746  7.497449e+07  Metro-Goldwyn-Mayer (MGM)\n",
       "1284    1.778746  7.497449e+07                     Danjaq\n",
       "1286    1.157930  1.383000e+08         Universal Pictures\n",
       "\n",
       "[2088 rows x 3 columns]"
      ]
     },
     "execution_count": 200,
     "metadata": {},
     "output_type": "execute_result"
    }
   ],
   "source": [
    "# count the number of occurrences of each cast member\n",
    "prod_counts = prod_combined[\"production_companies\"].value_counts()\n",
    "\n",
    "# filter out casts that appear less than 5 times\n",
    "valid_prod = prod_counts[prod_counts >= 5].index.tolist()\n",
    "\n",
    "# create a new dataframe with only the valid casts\n",
    "prod_filtered = prod_combined[prod_combined[\"production_companies\"].isin(valid_prod)]\n",
    "\n",
    "num_unique_indexes = prod_filtered.index.nunique()\n",
    "\n",
    "# display the result\n",
    "print(\"Number of unique index values in the dataframe: \", num_unique_indexes)\n",
    "prod_filtered"
   ]
  },
  {
   "cell_type": "markdown",
   "metadata": {},
   "source": [
    "### Depiction of mean of *popularity* and *profit* for each variable"
   ]
  },
  {
   "cell_type": "markdown",
   "metadata": {},
   "source": [
    "#### *cast*"
   ]
  },
  {
   "cell_type": "code",
   "execution_count": 192,
   "metadata": {},
   "outputs": [
    {
     "data": {
      "text/plain": [
       "cast\n",
       "Aaron Eckhart        1.768422e+08\n",
       "Abbie Cornish        4.404650e+07\n",
       "Abigail Breslin      5.270388e+07\n",
       "Adam Sandler         1.015443e+08\n",
       "Al Pacino            1.228691e+08\n",
       "                         ...     \n",
       "Winona Ryder         6.675413e+07\n",
       "Woody Harrelson      2.287871e+08\n",
       "Zach Galifianakis    1.469285e+08\n",
       "Zoe Saldana          6.349191e+08\n",
       "Zooey Deschanel      3.853914e+07\n",
       "Name: profit, Length: 321, dtype: float64"
      ]
     },
     "metadata": {},
     "output_type": "display_data"
    },
    {
     "data": {
      "text/plain": [
       "cast\n",
       "Aaron Eckhart        2.018311\n",
       "Abbie Cornish        1.379922\n",
       "Abigail Breslin      1.463021\n",
       "Adam Sandler         1.677745\n",
       "Al Pacino            2.152814\n",
       "                       ...   \n",
       "Winona Ryder         1.689443\n",
       "Woody Harrelson      2.796703\n",
       "Zach Galifianakis    1.534692\n",
       "Zoe Saldana          5.319022\n",
       "Zooey Deschanel      1.341595\n",
       "Name: popularity, Length: 321, dtype: float64"
      ]
     },
     "metadata": {},
     "output_type": "display_data"
    }
   ],
   "source": [
    "mean_profit_by_cast = cast_filtered.groupby(\"cast\")[\"profit\"].mean()\n",
    "mean_popularity_by_cast = cast_filtered.groupby(\"cast\")[\"popularity\"].mean()\n",
    "display(mean_profit_by_cast, mean_popularity_by_cast)"
   ]
  },
  {
   "cell_type": "markdown",
   "metadata": {},
   "source": [
    "#### *production company*"
   ]
  },
  {
   "cell_type": "code",
   "execution_count": 203,
   "metadata": {},
   "outputs": [
    {
     "data": {
      "text/plain": [
       "production_companies\n",
       "1492 Pictures                        2.580206e+08\n",
       "20th Century Fox                     9.376905e+07\n",
       "21 Laps Entertainment                1.021079e+08\n",
       "3 Arts Entertainment                 6.062205e+07\n",
       "Affirm Films                         3.315747e+07\n",
       "                                         ...     \n",
       "Warner Bros. Animation               9.523564e+07\n",
       "Warner Independent Pictures (WIP)    1.202267e+07\n",
       "Weed Road Pictures                   1.637005e+08\n",
       "WingNut Films                        5.280403e+08\n",
       "Working Title Films                  9.564426e+07\n",
       "Name: profit, Length: 155, dtype: float64"
      ]
     },
     "metadata": {},
     "output_type": "display_data"
    },
    {
     "data": {
      "text/plain": [
       "production_companies\n",
       "1492 Pictures                        2.648557\n",
       "20th Century Fox                     1.527272\n",
       "21 Laps Entertainment                1.343531\n",
       "3 Arts Entertainment                 1.819087\n",
       "Affirm Films                         0.492822\n",
       "                                       ...   \n",
       "Warner Bros. Animation               1.234895\n",
       "Warner Independent Pictures (WIP)    0.688099\n",
       "Weed Road Pictures                   1.439762\n",
       "WingNut Films                        5.098463\n",
       "Working Title Films                  1.562140\n",
       "Name: popularity, Length: 155, dtype: float64"
      ]
     },
     "metadata": {},
     "output_type": "display_data"
    }
   ],
   "source": [
    "mean_profit_by_prod = prod_filtered.groupby(\"production_companies\")[\"profit\"].mean()\n",
    "mean_popularity_by_prod = prod_filtered.groupby(\"production_companies\")[\"popularity\"].mean()\n",
    "display(mean_profit_by_prod, mean_popularity_by_prod)"
   ]
  },
  {
   "cell_type": "markdown",
   "metadata": {},
   "source": [
    "### Analysing correlation between *cast* and success factors\n",
    "\n",
    "The code below shows the correlation between cast and the success factors(profit and popularity).<br>\n",
    "This is done through the use of one-hot encoding by coverting categorical data to numerical data.\n"
   ]
  },
  {
   "cell_type": "code",
   "execution_count": 201,
   "metadata": {},
   "outputs": [],
   "source": [
    "# use one hot encoding to create binary indicator variables for the cast\n",
    "cast_dummies = pd.get_dummies(cast_filtered['cast'])\n",
    "\n",
    "cast_success = pd.concat([cast_dummies, cast_filtered], axis=1)\n",
    "\n",
    "# drop the original 'cast' column since it is no longer needed\n",
    "cast_data = cast_success.drop('cast', axis=1)\n",
    "cast_popularity = cast_data.drop('profit', axis=1)\n",
    "cast_profit = cast_data.drop('popularity', axis=1)\n",
    "\n",
    "cast_profit = cast_profit.groupby(cast_profit.index).sum()\n",
    "cast_popularity = cast_popularity.groupby(cast_popularity.index).sum()\n"
   ]
  },
  {
   "cell_type": "code",
   "execution_count": 205,
   "metadata": {},
   "outputs": [
    {
     "name": "stdout",
     "output_type": "stream",
     "text": [
      "profit            1.000000\n",
      "Orlando Bloom     0.259912\n",
      "Rupert Grint      0.243882\n",
      "Ian McKellen      0.221418\n",
      "Emma Watson       0.221074\n",
      "                    ...   \n",
      "Paul Giamatti    -0.037661\n",
      "Colin Farrell    -0.042037\n",
      "Kurt Russell     -0.042403\n",
      "Susan Sarandon   -0.044264\n",
      "Julianne Moore   -0.045652\n",
      "Name: profit, Length: 322, dtype: float64\n"
     ]
    }
   ],
   "source": [
    "corr_matrix_cast_profit = cast_profit.corr()\n",
    "target_column = 'profit'\n",
    "corr_cast_profit = corr_matrix_cast_profit[target_column]\n",
    "\n",
    "# Sort the correlations in descending order\n",
    "corr_cast_profit = corr_cast_profit.sort_values(ascending=False)\n",
    "\n",
    "print(corr_cast_profit)"
   ]
  },
  {
   "cell_type": "code",
   "execution_count": 206,
   "metadata": {},
   "outputs": [
    {
     "name": "stdout",
     "output_type": "stream",
     "text": [
      "popularity          1.000000\n",
      "Michael Caine       0.281095\n",
      "Orlando Bloom       0.228840\n",
      "Ian McKellen        0.203125\n",
      "Casey Affleck       0.199023\n",
      "                      ...   \n",
      "Milla Jovovich     -0.036162\n",
      "Roger Moore        -0.036238\n",
      "Donald Pleasence   -0.036757\n",
      "Susan Sarandon     -0.037712\n",
      "Paul Giamatti      -0.038377\n",
      "Name: popularity, Length: 322, dtype: float64\n"
     ]
    }
   ],
   "source": [
    "corr_matrix_cast_pop = cast_popularity.corr()\n",
    "target_column = 'popularity'\n",
    "corr_cast_pop = corr_matrix_cast_pop[target_column]\n",
    "\n",
    "# Sort the correlations in descending order\n",
    "corr_cast_pop = corr_cast_pop.sort_values(ascending=False)\n",
    "\n",
    "print(corr_cast_pop)"
   ]
  },
  {
   "cell_type": "markdown",
   "metadata": {},
   "source": [
    "### Analysing correlation between *production company* and success factors\n",
    "\n",
    "The code below shows the correlation between production company and the success factors(profit and popularity).<br>\n",
    "This is done through the use of one-hot encoding by coverting categorical data to numerical data."
   ]
  },
  {
   "cell_type": "code",
   "execution_count": 204,
   "metadata": {},
   "outputs": [],
   "source": [
    "# use one hot encoding to create binary indicator variables for the cast\n",
    "prod_dummies = pd.get_dummies(prod_filtered['production_companies'])\n",
    "\n",
    "prod_success = pd.concat([prod_dummies, prod_filtered], axis=1)\n",
    "\n",
    "# drop the original 'cast' column since it is no longer needed\n",
    "prod_data = prod_success.drop('production_companies', axis=1)\n",
    "prod_popularity = prod_data.drop('profit', axis=1)\n",
    "prod_profit = prod_data.drop('popularity', axis=1)\n",
    "\n",
    "prod_profit = prod_profit.groupby(prod_profit.index).sum()\n",
    "prod_popularity = prod_popularity.groupby(prod_popularity.index).sum()\n"
   ]
  },
  {
   "cell_type": "code",
   "execution_count": 207,
   "metadata": {},
   "outputs": [
    {
     "name": "stdout",
     "output_type": "stream",
     "text": [
      "profit                      1.000000\n",
      "Syncopy                     0.223022\n",
      "Heyday Films                0.221612\n",
      "Dentsu                      0.189915\n",
      "Amblin Entertainment        0.180829\n",
      "                              ...   \n",
      "Screen Gems                -0.046014\n",
      "Morgan Creek Productions   -0.048024\n",
      "BBC Films                  -0.048527\n",
      "Dimension Films            -0.053268\n",
      "Miramax Films              -0.070913\n",
      "Name: profit, Length: 156, dtype: float64\n"
     ]
    }
   ],
   "source": [
    "corr_matrix_prod_profit = prod_profit.corr()\n",
    "target_column = 'profit'\n",
    "corr_prod_profit = corr_matrix_prod_profit[target_column]\n",
    "\n",
    "# Sort the correlations in descending order\n",
    "corr_prod_profit = corr_prod_profit.sort_values(ascending=False)\n",
    "\n",
    "print(corr_prod_profit)"
   ]
  },
  {
   "cell_type": "code",
   "execution_count": 208,
   "metadata": {},
   "outputs": [
    {
     "name": "stdout",
     "output_type": "stream",
     "text": [
      "popularity            1.000000\n",
      "Syncopy               0.379647\n",
      "Legendary Pictures    0.300930\n",
      "Dentsu                0.219249\n",
      "Warner Bros.          0.154385\n",
      "                        ...   \n",
      "BBC Films            -0.039286\n",
      "Lions Gate Films     -0.040814\n",
      "UK Film Council      -0.041714\n",
      "Dimension Films      -0.045426\n",
      "Miramax Films        -0.059953\n",
      "Name: popularity, Length: 156, dtype: float64\n"
     ]
    }
   ],
   "source": [
    "corr_matrix_prod_pop = prod_popularity.corr()\n",
    "target_column = 'popularity'\n",
    "corr_prod_pop = corr_matrix_prod_pop[target_column]\n",
    "\n",
    "# Sort the correlations in descending order\n",
    "corr_prod_pop = corr_prod_pop.sort_values(ascending=False)\n",
    "\n",
    "print(corr_prod_pop)"
   ]
  },
  {
   "cell_type": "code",
   "execution_count": null,
   "metadata": {},
   "outputs": [],
   "source": []
  }
 ],
 "metadata": {
  "kernelspec": {
   "display_name": "Python 3.9.12 ('base')",
   "language": "python",
   "name": "python3"
  },
  "language_info": {
   "codemirror_mode": {
    "name": "ipython",
    "version": 3
   },
   "file_extension": ".py",
   "mimetype": "text/x-python",
   "name": "python",
   "nbconvert_exporter": "python",
   "pygments_lexer": "ipython3",
   "version": "3.9.12"
  },
  "orig_nbformat": 4,
  "vscode": {
   "interpreter": {
    "hash": "6767b1d156597b9b908f311c67bb9c3df6a3e2b3c128c71e54ebdc80305290ce"
   }
  }
 },
 "nbformat": 4,
 "nbformat_minor": 2
}
