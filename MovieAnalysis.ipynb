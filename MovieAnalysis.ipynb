{
 "cells": [
  {
   "cell_type": "code",
   "execution_count": 9,
   "metadata": {},
   "outputs": [],
   "source": [
    "import numpy as np\n",
    "import pandas as pd\n",
    "import seaborn as sb\n",
    "import matplotlib.pyplot as plt \n",
    "sb.set() "
   ]
  },
  {
   "cell_type": "code",
   "execution_count": 3,
   "metadata": {},
   "outputs": [],
   "source": [
    "movie_data = pd.read_csv('TMBD Movie Dataset.csv')"
   ]
  },
  {
   "cell_type": "markdown",
   "metadata": {},
   "source": [
    "We will be using profit and popularity as the main factors of success"
   ]
  },
  {
   "cell_type": "code",
   "execution_count": 4,
   "metadata": {},
   "outputs": [],
   "source": [
    "profit = pd.DataFrame(movie_data['profit'])\n",
    "popularity = pd.DataFrame(movie_data['popularity'])"
   ]
  },
  {
   "cell_type": "markdown",
   "metadata": {},
   "source": [
    "We have filtered out the factors that we identified to have relevance to the success of a movie "
   ]
  },
  {
   "cell_type": "code",
   "execution_count": 24,
   "metadata": {},
   "outputs": [],
   "source": [
    "budget = pd.DataFrame(movie_data['budget'])\n",
    "cast = pd.DataFrame(movie_data['cast'])\n",
    "director = pd.DataFrame(movie_data['director'])\n",
    "genres = pd.DataFrame(movie_data['genres'])\n",
    "runtime = pd.DataFrame(movie_data['runtime'])\n",
    "production_companies = pd.DataFrame(movie_data['production_companies'])\n",
    "release_year = pd.DataFrame(movie_data['release_year'])\n",
    "release_date = pd.DataFrame(movie_data['release_date'])\n",
    "factors = movie_data[['budget', 'cast', 'director', 'genres', 'production_companies', 'release_year', 'release_date', 'runtime']]\n",
    "success = movie_data[['popularity', 'profit']]"
   ]
  },
  {
   "cell_type": "code",
   "execution_count": 25,
   "metadata": {},
   "outputs": [
    {
     "data": {
      "text/html": [
       "<div>\n",
       "<style scoped>\n",
       "    .dataframe tbody tr th:only-of-type {\n",
       "        vertical-align: middle;\n",
       "    }\n",
       "\n",
       "    .dataframe tbody tr th {\n",
       "        vertical-align: top;\n",
       "    }\n",
       "\n",
       "    .dataframe thead th {\n",
       "        text-align: right;\n",
       "    }\n",
       "</style>\n",
       "<table border=\"1\" class=\"dataframe\">\n",
       "  <thead>\n",
       "    <tr style=\"text-align: right;\">\n",
       "      <th></th>\n",
       "      <th>popularity</th>\n",
       "      <th>profit</th>\n",
       "    </tr>\n",
       "  </thead>\n",
       "  <tbody>\n",
       "    <tr>\n",
       "      <th>0</th>\n",
       "      <td>32.985763</td>\n",
       "      <td>1.363529e+09</td>\n",
       "    </tr>\n",
       "    <tr>\n",
       "      <th>1</th>\n",
       "      <td>28.419936</td>\n",
       "      <td>2.284364e+08</td>\n",
       "    </tr>\n",
       "    <tr>\n",
       "      <th>2</th>\n",
       "      <td>13.112507</td>\n",
       "      <td>1.852382e+08</td>\n",
       "    </tr>\n",
       "    <tr>\n",
       "      <th>3</th>\n",
       "      <td>11.173104</td>\n",
       "      <td>1.868178e+09</td>\n",
       "    </tr>\n",
       "    <tr>\n",
       "      <th>4</th>\n",
       "      <td>9.335014</td>\n",
       "      <td>1.316249e+09</td>\n",
       "    </tr>\n",
       "    <tr>\n",
       "      <th>...</th>\n",
       "      <td>...</td>\n",
       "      <td>...</td>\n",
       "    </tr>\n",
       "    <tr>\n",
       "      <th>1282</th>\n",
       "      <td>1.549139</td>\n",
       "      <td>1.547778e+08</td>\n",
       "    </tr>\n",
       "    <tr>\n",
       "      <th>1283</th>\n",
       "      <td>1.910465</td>\n",
       "      <td>1.301957e+08</td>\n",
       "    </tr>\n",
       "    <tr>\n",
       "      <th>1284</th>\n",
       "      <td>1.778746</td>\n",
       "      <td>7.497449e+07</td>\n",
       "    </tr>\n",
       "    <tr>\n",
       "      <th>1285</th>\n",
       "      <td>1.198849</td>\n",
       "      <td>6.970000e+07</td>\n",
       "    </tr>\n",
       "    <tr>\n",
       "      <th>1286</th>\n",
       "      <td>1.157930</td>\n",
       "      <td>1.383000e+08</td>\n",
       "    </tr>\n",
       "  </tbody>\n",
       "</table>\n",
       "<p>1287 rows × 2 columns</p>\n",
       "</div>"
      ],
      "text/plain": [
       "      popularity        profit\n",
       "0      32.985763  1.363529e+09\n",
       "1      28.419936  2.284364e+08\n",
       "2      13.112507  1.852382e+08\n",
       "3      11.173104  1.868178e+09\n",
       "4       9.335014  1.316249e+09\n",
       "...          ...           ...\n",
       "1282    1.549139  1.547778e+08\n",
       "1283    1.910465  1.301957e+08\n",
       "1284    1.778746  7.497449e+07\n",
       "1285    1.198849  6.970000e+07\n",
       "1286    1.157930  1.383000e+08\n",
       "\n",
       "[1287 rows x 2 columns]"
      ]
     },
     "execution_count": 25,
     "metadata": {},
     "output_type": "execute_result"
    }
   ],
   "source": [
    "factors.dropna(axis=0)\n",
    "success.dropna(axis=0)"
   ]
  },
  {
   "cell_type": "code",
   "execution_count": null,
   "metadata": {},
   "outputs": [],
   "source": []
  }
 ],
 "metadata": {
  "kernelspec": {
   "display_name": "Python 3.9.12 ('base')",
   "language": "python",
   "name": "python3"
  },
  "language_info": {
   "codemirror_mode": {
    "name": "ipython",
    "version": 3
   },
   "file_extension": ".py",
   "mimetype": "text/x-python",
   "name": "python",
   "nbconvert_exporter": "python",
   "pygments_lexer": "ipython3",
   "version": "3.9.12"
  },
  "orig_nbformat": 4,
  "vscode": {
   "interpreter": {
    "hash": "6767b1d156597b9b908f311c67bb9c3df6a3e2b3c128c71e54ebdc80305290ce"
   }
  }
 },
 "nbformat": 4,
 "nbformat_minor": 2
}
